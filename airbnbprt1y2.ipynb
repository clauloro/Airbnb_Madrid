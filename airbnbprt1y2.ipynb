{
 "cells": [
  {
   "attachments": {},
   "cell_type": "markdown",
   "metadata": {},
   "source": [
    "# Airbnb Madrid"
   ]
  },
  {
   "attachments": {},
   "cell_type": "markdown",
   "metadata": {},
   "source": [
    "1. Extraer del fichero de alojamientos una lista con todos los alojamientos, donde cada alojamiento sea un diccionario que contenga el identificador del alojamiento, el identificador del anfitrión, el distrito, el precio y las plazas."
   ]
  },
  {
   "cell_type": "code",
   "execution_count": 50,
   "metadata": {
    "ExecuteTime": {
     "start_time": "2023-05-13T19:04:23.712929Z",
     "end_time": "2023-05-13T19:04:24.090108Z"
    }
   },
   "outputs": [
    {
     "data": {
      "text/plain": "          id anfitrion    distrito plazas   precio\n0       6369     13660   Chamartín      2   $70.00\n1      21853     83531      Latina      1   $17.00\n2      24805    101471      Centro      3   $80.00\n3      24836    101653      Centro      4  $115.00\n4      26825    114340  Arganzuela      1   $25.00\n..       ...       ...         ...    ...      ...\n995  2686592  13751801      Centro      1   $21.00\n996  2701211   1650712   Salamanca      4  $165.00\n997  2704499  13841663      Centro      3   $85.00\n998  2706194   1843216      Centro      4   $69.00\n999  2707743   5542111      Centro      5   $67.00\n\n[1000 rows x 5 columns]",
      "text/html": "<div>\n<style scoped>\n    .dataframe tbody tr th:only-of-type {\n        vertical-align: middle;\n    }\n\n    .dataframe tbody tr th {\n        vertical-align: top;\n    }\n\n    .dataframe thead th {\n        text-align: right;\n    }\n</style>\n<table border=\"1\" class=\"dataframe\">\n  <thead>\n    <tr style=\"text-align: right;\">\n      <th></th>\n      <th>id</th>\n      <th>anfitrion</th>\n      <th>distrito</th>\n      <th>plazas</th>\n      <th>precio</th>\n    </tr>\n  </thead>\n  <tbody>\n    <tr>\n      <th>0</th>\n      <td>6369</td>\n      <td>13660</td>\n      <td>Chamartín</td>\n      <td>2</td>\n      <td>$70.00</td>\n    </tr>\n    <tr>\n      <th>1</th>\n      <td>21853</td>\n      <td>83531</td>\n      <td>Latina</td>\n      <td>1</td>\n      <td>$17.00</td>\n    </tr>\n    <tr>\n      <th>2</th>\n      <td>24805</td>\n      <td>101471</td>\n      <td>Centro</td>\n      <td>3</td>\n      <td>$80.00</td>\n    </tr>\n    <tr>\n      <th>3</th>\n      <td>24836</td>\n      <td>101653</td>\n      <td>Centro</td>\n      <td>4</td>\n      <td>$115.00</td>\n    </tr>\n    <tr>\n      <th>4</th>\n      <td>26825</td>\n      <td>114340</td>\n      <td>Arganzuela</td>\n      <td>1</td>\n      <td>$25.00</td>\n    </tr>\n    <tr>\n      <th>...</th>\n      <td>...</td>\n      <td>...</td>\n      <td>...</td>\n      <td>...</td>\n      <td>...</td>\n    </tr>\n    <tr>\n      <th>995</th>\n      <td>2686592</td>\n      <td>13751801</td>\n      <td>Centro</td>\n      <td>1</td>\n      <td>$21.00</td>\n    </tr>\n    <tr>\n      <th>996</th>\n      <td>2701211</td>\n      <td>1650712</td>\n      <td>Salamanca</td>\n      <td>4</td>\n      <td>$165.00</td>\n    </tr>\n    <tr>\n      <th>997</th>\n      <td>2704499</td>\n      <td>13841663</td>\n      <td>Centro</td>\n      <td>3</td>\n      <td>$85.00</td>\n    </tr>\n    <tr>\n      <th>998</th>\n      <td>2706194</td>\n      <td>1843216</td>\n      <td>Centro</td>\n      <td>4</td>\n      <td>$69.00</td>\n    </tr>\n    <tr>\n      <th>999</th>\n      <td>2707743</td>\n      <td>5542111</td>\n      <td>Centro</td>\n      <td>5</td>\n      <td>$67.00</td>\n    </tr>\n  </tbody>\n</table>\n<p>1000 rows × 5 columns</p>\n</div>"
     },
     "execution_count": 50,
     "metadata": {},
     "output_type": "execute_result"
    }
   ],
   "source": [
    "import pandas as pd \n",
    "\n",
    "try:\n",
    "    f = open('madridairbnb.csv', encoding='utf-8')\n",
    "except FileNotFoundError:\n",
    "    print('El fichero no existe.')\n",
    "else:\n",
    "    lineas = f.readlines()\n",
    "    f.close()\n",
    "    columnas = lineas[0].split('\\t')\n",
    "    seleccion = ['id', 'host_id', 'neighbourhood_group_cleansed', 'accommodates', 'price']\n",
    "    traduccion = {'id':'id', 'host_id':'anfitrion', 'neighbourhood_group_cleansed':'distrito', 'accommodates':'plazas', 'price':'precio'}\n",
    "    alojamientos = []\n",
    "    for linea in lineas[1:]:\n",
    "        alojamiento = {}\n",
    "        campos = linea.split('\\t')\n",
    "        for i in range(len(columnas)):\n",
    "            if columnas[i] in seleccion:\n",
    "                alojamiento[traduccion[columnas[i]]] = campos[i]\n",
    "        alojamientos.append(alojamiento)\n",
    "\n",
    "    df_alojamientos = pd.DataFrame(alojamientos)\n",
    "df_alojamientos   \n"
   ]
  },
  {
   "attachments": {},
   "cell_type": "markdown",
   "metadata": {},
   "source": [
    "2. Crear una función que reciba la lista de alojamientos y devuelva el número de alojamientos en cada distrito."
   ]
  },
  {
   "cell_type": "code",
   "execution_count": 51,
   "metadata": {
    "ExecuteTime": {
     "start_time": "2023-05-13T19:04:23.748791Z",
     "end_time": "2023-05-13T19:04:24.104062Z"
    }
   },
   "outputs": [
    {
     "data": {
      "text/plain": "                 Distrito  Número de alojamientos\n0                  Centro                     618\n1                Chamberí                      69\n2               Salamanca                      51\n3              Arganzuela                      44\n4                  Retiro                      35\n5           Ciudad Lineal                      23\n6               Chamartín                      22\n7                  Tetuán                      19\n8                  Latina                      19\n9       Moncloa - Aravaca                      18\n10            Carabanchel                      14\n11  San Blas - Canillejas                      14\n12              Hortaleza                      12\n13     Puente de Vallecas                      11\n14                Barajas                       6\n15             Villaverde                       5\n16  Fuencarral - El Pardo                       5\n17      Villa de Vallecas                       5\n18                  Usera                       5\n19              Moratalaz                       4\n20              Vicálvaro                       1",
      "text/html": "<div>\n<style scoped>\n    .dataframe tbody tr th:only-of-type {\n        vertical-align: middle;\n    }\n\n    .dataframe tbody tr th {\n        vertical-align: top;\n    }\n\n    .dataframe thead th {\n        text-align: right;\n    }\n</style>\n<table border=\"1\" class=\"dataframe\">\n  <thead>\n    <tr style=\"text-align: right;\">\n      <th></th>\n      <th>Distrito</th>\n      <th>Número de alojamientos</th>\n    </tr>\n  </thead>\n  <tbody>\n    <tr>\n      <th>0</th>\n      <td>Centro</td>\n      <td>618</td>\n    </tr>\n    <tr>\n      <th>1</th>\n      <td>Chamberí</td>\n      <td>69</td>\n    </tr>\n    <tr>\n      <th>2</th>\n      <td>Salamanca</td>\n      <td>51</td>\n    </tr>\n    <tr>\n      <th>3</th>\n      <td>Arganzuela</td>\n      <td>44</td>\n    </tr>\n    <tr>\n      <th>4</th>\n      <td>Retiro</td>\n      <td>35</td>\n    </tr>\n    <tr>\n      <th>5</th>\n      <td>Ciudad Lineal</td>\n      <td>23</td>\n    </tr>\n    <tr>\n      <th>6</th>\n      <td>Chamartín</td>\n      <td>22</td>\n    </tr>\n    <tr>\n      <th>7</th>\n      <td>Tetuán</td>\n      <td>19</td>\n    </tr>\n    <tr>\n      <th>8</th>\n      <td>Latina</td>\n      <td>19</td>\n    </tr>\n    <tr>\n      <th>9</th>\n      <td>Moncloa - Aravaca</td>\n      <td>18</td>\n    </tr>\n    <tr>\n      <th>10</th>\n      <td>Carabanchel</td>\n      <td>14</td>\n    </tr>\n    <tr>\n      <th>11</th>\n      <td>San Blas - Canillejas</td>\n      <td>14</td>\n    </tr>\n    <tr>\n      <th>12</th>\n      <td>Hortaleza</td>\n      <td>12</td>\n    </tr>\n    <tr>\n      <th>13</th>\n      <td>Puente de Vallecas</td>\n      <td>11</td>\n    </tr>\n    <tr>\n      <th>14</th>\n      <td>Barajas</td>\n      <td>6</td>\n    </tr>\n    <tr>\n      <th>15</th>\n      <td>Villaverde</td>\n      <td>5</td>\n    </tr>\n    <tr>\n      <th>16</th>\n      <td>Fuencarral - El Pardo</td>\n      <td>5</td>\n    </tr>\n    <tr>\n      <th>17</th>\n      <td>Villa de Vallecas</td>\n      <td>5</td>\n    </tr>\n    <tr>\n      <th>18</th>\n      <td>Usera</td>\n      <td>5</td>\n    </tr>\n    <tr>\n      <th>19</th>\n      <td>Moratalaz</td>\n      <td>4</td>\n    </tr>\n    <tr>\n      <th>20</th>\n      <td>Vicálvaro</td>\n      <td>1</td>\n    </tr>\n  </tbody>\n</table>\n</div>"
     },
     "execution_count": 51,
     "metadata": {},
     "output_type": "execute_result"
    }
   ],
   "source": [
    "def alojamientos_distritos(df_alojamientos):\n",
    "\n",
    "    # Utilizamos value_counts para contar los alojamientos en cada distrito.\n",
    "    alojamiento_distritos = df_alojamientos['distrito'].value_counts().to_dict()\n",
    "\n",
    "    # Convertimos el diccionario a DataFrame\n",
    "    df_alojamiento_distritos = pd.DataFrame(list(alojamiento_distritos.items()), columns=['Distrito', 'Número de alojamientos'])\n",
    "\n",
    "    return df_alojamiento_distritos\n",
    "\n",
    "# Ejemplo\n",
    "alojamientos_distritos(df_alojamientos)\n",
    "\n"
   ]
  },
  {
   "attachments": {},
   "cell_type": "markdown",
   "metadata": {},
   "source": [
    "3. Crear una función que reciba la lista de alojamientos y un número de ocupantes y devuelva la lista de alojamientos con un número de plazas mayor o igual que el número de ocupantes."
   ]
  },
  {
   "cell_type": "code",
   "execution_count": 52,
   "metadata": {
    "ExecuteTime": {
     "start_time": "2023-05-13T19:04:23.758298Z",
     "end_time": "2023-05-13T19:04:24.104383Z"
    }
   },
   "outputs": [
    {
     "data": {
      "text/plain": "          id anfitrion           distrito  plazas   precio\n81    256004   1732442             Centro      12   $80.00\n89    264054   1370007             Centro      12  $480.00\n215   536574    447969         Arganzuela      10   $70.00\n295   685152   3494012          Hortaleza      12  $155.00\n297   688795   1732442             Centro      10   $75.00\n341   745728   3797913             Centro      12  $250.00\n371   773861   1732442             Centro      12   $75.00\n406   834562   4365768            Barajas      10  $110.00\n509   970485   5302455             Retiro      16  $350.00\n537  1044902   5751753  Moncloa - Aravaca      16   $85.00\n848  1980372   1732442             Centro      11   $75.00\n880  2099314  10651006             Centro      10   $99.00\n893  2143824  10940437             Centro      10   $20.00\n938  2355655  12028707             Centro      10  $300.00",
      "text/html": "<div>\n<style scoped>\n    .dataframe tbody tr th:only-of-type {\n        vertical-align: middle;\n    }\n\n    .dataframe tbody tr th {\n        vertical-align: top;\n    }\n\n    .dataframe thead th {\n        text-align: right;\n    }\n</style>\n<table border=\"1\" class=\"dataframe\">\n  <thead>\n    <tr style=\"text-align: right;\">\n      <th></th>\n      <th>id</th>\n      <th>anfitrion</th>\n      <th>distrito</th>\n      <th>plazas</th>\n      <th>precio</th>\n    </tr>\n  </thead>\n  <tbody>\n    <tr>\n      <th>81</th>\n      <td>256004</td>\n      <td>1732442</td>\n      <td>Centro</td>\n      <td>12</td>\n      <td>$80.00</td>\n    </tr>\n    <tr>\n      <th>89</th>\n      <td>264054</td>\n      <td>1370007</td>\n      <td>Centro</td>\n      <td>12</td>\n      <td>$480.00</td>\n    </tr>\n    <tr>\n      <th>215</th>\n      <td>536574</td>\n      <td>447969</td>\n      <td>Arganzuela</td>\n      <td>10</td>\n      <td>$70.00</td>\n    </tr>\n    <tr>\n      <th>295</th>\n      <td>685152</td>\n      <td>3494012</td>\n      <td>Hortaleza</td>\n      <td>12</td>\n      <td>$155.00</td>\n    </tr>\n    <tr>\n      <th>297</th>\n      <td>688795</td>\n      <td>1732442</td>\n      <td>Centro</td>\n      <td>10</td>\n      <td>$75.00</td>\n    </tr>\n    <tr>\n      <th>341</th>\n      <td>745728</td>\n      <td>3797913</td>\n      <td>Centro</td>\n      <td>12</td>\n      <td>$250.00</td>\n    </tr>\n    <tr>\n      <th>371</th>\n      <td>773861</td>\n      <td>1732442</td>\n      <td>Centro</td>\n      <td>12</td>\n      <td>$75.00</td>\n    </tr>\n    <tr>\n      <th>406</th>\n      <td>834562</td>\n      <td>4365768</td>\n      <td>Barajas</td>\n      <td>10</td>\n      <td>$110.00</td>\n    </tr>\n    <tr>\n      <th>509</th>\n      <td>970485</td>\n      <td>5302455</td>\n      <td>Retiro</td>\n      <td>16</td>\n      <td>$350.00</td>\n    </tr>\n    <tr>\n      <th>537</th>\n      <td>1044902</td>\n      <td>5751753</td>\n      <td>Moncloa - Aravaca</td>\n      <td>16</td>\n      <td>$85.00</td>\n    </tr>\n    <tr>\n      <th>848</th>\n      <td>1980372</td>\n      <td>1732442</td>\n      <td>Centro</td>\n      <td>11</td>\n      <td>$75.00</td>\n    </tr>\n    <tr>\n      <th>880</th>\n      <td>2099314</td>\n      <td>10651006</td>\n      <td>Centro</td>\n      <td>10</td>\n      <td>$99.00</td>\n    </tr>\n    <tr>\n      <th>893</th>\n      <td>2143824</td>\n      <td>10940437</td>\n      <td>Centro</td>\n      <td>10</td>\n      <td>$20.00</td>\n    </tr>\n    <tr>\n      <th>938</th>\n      <td>2355655</td>\n      <td>12028707</td>\n      <td>Centro</td>\n      <td>10</td>\n      <td>$300.00</td>\n    </tr>\n  </tbody>\n</table>\n</div>"
     },
     "execution_count": 52,
     "metadata": {},
     "output_type": "execute_result"
    }
   ],
   "source": [
    "def filtrar_plazas(df_alojamientos, plazas):\n",
    "\n",
    "    # Asegurándonos de que 'plazas' es un entero\n",
    "    df_alojamientos['plazas'] = df_alojamientos['plazas'].astype(int)\n",
    "\n",
    "    # Con query\n",
    "    return df_alojamientos.query('plazas >= @plazas')\n",
    "\n",
    "# Ejemplo\n",
    "filtro = filtrar_plazas(df_alojamientos, 10)\n",
    "filtro\n",
    "\n"
   ]
  },
  {
   "attachments": {},
   "cell_type": "markdown",
   "metadata": {},
   "source": [
    "4. Crear una función que reciba la lista de alojamientos un distrito, y devuelva los 10 alojamientos más baratos del distrito."
   ]
  },
  {
   "cell_type": "code",
   "execution_count": 53,
   "metadata": {
    "ExecuteTime": {
     "start_time": "2023-05-13T19:04:23.770703Z",
     "end_time": "2023-05-13T19:04:24.104631Z"
    }
   },
   "outputs": [
    {
     "data": {
      "text/plain": "          id anfitrion    distrito  plazas  precio\n829  1890985   5675916  Arganzuela       2    18.0\n474   896291   4778528  Arganzuela       2    19.0\n216   537234   2638528  Arganzuela       1    22.0\n299   691344    655088  Arganzuela       1    23.0\n136   375472   1888816  Arganzuela       2    24.0\n451   883037   4674072  Arganzuela       1    24.0\n344   748854   1888816  Arganzuela       1    24.0\n4      26825    114340  Arganzuela       1    25.0\n715  1592439   4043145  Arganzuela       1    25.0\n257   605697   2999728  Arganzuela       2    25.0",
      "text/html": "<div>\n<style scoped>\n    .dataframe tbody tr th:only-of-type {\n        vertical-align: middle;\n    }\n\n    .dataframe tbody tr th {\n        vertical-align: top;\n    }\n\n    .dataframe thead th {\n        text-align: right;\n    }\n</style>\n<table border=\"1\" class=\"dataframe\">\n  <thead>\n    <tr style=\"text-align: right;\">\n      <th></th>\n      <th>id</th>\n      <th>anfitrion</th>\n      <th>distrito</th>\n      <th>plazas</th>\n      <th>precio</th>\n    </tr>\n  </thead>\n  <tbody>\n    <tr>\n      <th>829</th>\n      <td>1890985</td>\n      <td>5675916</td>\n      <td>Arganzuela</td>\n      <td>2</td>\n      <td>18.0</td>\n    </tr>\n    <tr>\n      <th>474</th>\n      <td>896291</td>\n      <td>4778528</td>\n      <td>Arganzuela</td>\n      <td>2</td>\n      <td>19.0</td>\n    </tr>\n    <tr>\n      <th>216</th>\n      <td>537234</td>\n      <td>2638528</td>\n      <td>Arganzuela</td>\n      <td>1</td>\n      <td>22.0</td>\n    </tr>\n    <tr>\n      <th>299</th>\n      <td>691344</td>\n      <td>655088</td>\n      <td>Arganzuela</td>\n      <td>1</td>\n      <td>23.0</td>\n    </tr>\n    <tr>\n      <th>136</th>\n      <td>375472</td>\n      <td>1888816</td>\n      <td>Arganzuela</td>\n      <td>2</td>\n      <td>24.0</td>\n    </tr>\n    <tr>\n      <th>451</th>\n      <td>883037</td>\n      <td>4674072</td>\n      <td>Arganzuela</td>\n      <td>1</td>\n      <td>24.0</td>\n    </tr>\n    <tr>\n      <th>344</th>\n      <td>748854</td>\n      <td>1888816</td>\n      <td>Arganzuela</td>\n      <td>1</td>\n      <td>24.0</td>\n    </tr>\n    <tr>\n      <th>4</th>\n      <td>26825</td>\n      <td>114340</td>\n      <td>Arganzuela</td>\n      <td>1</td>\n      <td>25.0</td>\n    </tr>\n    <tr>\n      <th>715</th>\n      <td>1592439</td>\n      <td>4043145</td>\n      <td>Arganzuela</td>\n      <td>1</td>\n      <td>25.0</td>\n    </tr>\n    <tr>\n      <th>257</th>\n      <td>605697</td>\n      <td>2999728</td>\n      <td>Arganzuela</td>\n      <td>2</td>\n      <td>25.0</td>\n    </tr>\n  </tbody>\n</table>\n</div>"
     },
     "execution_count": 53,
     "metadata": {},
     "output_type": "execute_result"
    }
   ],
   "source": [
    "def alojamientos_baratos(df_alojamientos, distrito, n):\n",
    "\n",
    "    # Asegurándonos de que 'precio' es un número flotante (debemos quitar el símbolo de la moneda si está presente)\n",
    "    df_alojamientos['precio'] = df_alojamientos['precio'].replace('[\\$,]', '', regex=True).astype(float)\n",
    "\n",
    "    # Filtramos los alojamientos del distrito y los ordenamos por precio\n",
    "    df_alojamientos_baratos = df_alojamientos[df_alojamientos['distrito'] == distrito].sort_values('precio')\n",
    "\n",
    "    # Devolvemos los n primeros alojamientos\n",
    "    return df_alojamientos_baratos.head(n)\n",
    "\n",
    "# Ejemplo\n",
    "top_arganzuela = alojamientos_baratos(df_alojamientos, 'Arganzuela', 10)\n",
    "top_arganzuela\n"
   ]
  },
  {
   "attachments": {},
   "cell_type": "markdown",
   "metadata": {},
   "source": [
    "5. Crear una función que reciba la lista de alojamientos y devuelva un diccionario con los anfitriones y el número de alojamientos que posee cada uno."
   ]
  },
  {
   "cell_type": "code",
   "execution_count": 54,
   "metadata": {
    "ExecuteTime": {
     "start_time": "2023-05-13T19:04:23.778070Z",
     "end_time": "2023-05-13T19:04:24.105637Z"
    }
   },
   "outputs": [
    {
     "data": {
      "text/plain": "           count\nanfitrion       \n1408525       15\n534128        12\n5542111       12\n596469         8\n4735460        7\n...          ...\n4012290        1\n4032439        1\n4036376        1\n4053105        1\n13841663       1\n\n[713 rows x 1 columns]",
      "text/html": "<div>\n<style scoped>\n    .dataframe tbody tr th:only-of-type {\n        vertical-align: middle;\n    }\n\n    .dataframe tbody tr th {\n        vertical-align: top;\n    }\n\n    .dataframe thead th {\n        text-align: right;\n    }\n</style>\n<table border=\"1\" class=\"dataframe\">\n  <thead>\n    <tr style=\"text-align: right;\">\n      <th></th>\n      <th>count</th>\n    </tr>\n    <tr>\n      <th>anfitrion</th>\n      <th></th>\n    </tr>\n  </thead>\n  <tbody>\n    <tr>\n      <th>1408525</th>\n      <td>15</td>\n    </tr>\n    <tr>\n      <th>534128</th>\n      <td>12</td>\n    </tr>\n    <tr>\n      <th>5542111</th>\n      <td>12</td>\n    </tr>\n    <tr>\n      <th>596469</th>\n      <td>8</td>\n    </tr>\n    <tr>\n      <th>4735460</th>\n      <td>7</td>\n    </tr>\n    <tr>\n      <th>...</th>\n      <td>...</td>\n    </tr>\n    <tr>\n      <th>4012290</th>\n      <td>1</td>\n    </tr>\n    <tr>\n      <th>4032439</th>\n      <td>1</td>\n    </tr>\n    <tr>\n      <th>4036376</th>\n      <td>1</td>\n    </tr>\n    <tr>\n      <th>4053105</th>\n      <td>1</td>\n    </tr>\n    <tr>\n      <th>13841663</th>\n      <td>1</td>\n    </tr>\n  </tbody>\n</table>\n<p>713 rows × 1 columns</p>\n</div>"
     },
     "execution_count": 54,
     "metadata": {},
     "output_type": "execute_result"
    }
   ],
   "source": [
    "def alojamientos_anfitriones(df_alojamientos):\n",
    "\n",
    "    # Utilizamos value_counts para contar los alojamientos de cada anfitrión\n",
    "    alojamiento_anfitriones = df_alojamientos['anfitrion'].value_counts().to_frame()\n",
    "\n",
    "    return alojamiento_anfitriones\n",
    "\n",
    "# Ejemplo\n",
    "anfitriones = alojamientos_anfitriones(df_alojamientos)\n",
    "anfitriones\n"
   ]
  },
  {
   "cell_type": "markdown",
   "source": [],
   "metadata": {
    "collapsed": false
   }
  },
  {
   "cell_type": "markdown",
   "source": [
    "6.Preprocesar el fichero de alojamientos para crear un data frame con las variables id, host_id, listing_url, room_type, neighbourhood_group_cleansed, price, cleaning_fee, accommodates, minimum_nights, minimum_cost, review_scores_rating, latitude, longitude, is_location_exact. Eliminar del data frame cualquier fila incompleta. Añadir al data frame nuevas variables con el coste mínimo por noche y por persona (que incluya los gastos de limpieza)."
   ],
   "metadata": {
    "collapsed": false
   }
  },
  {
   "cell_type": "code",
   "execution_count": 55,
   "outputs": [
    {
     "data": {
      "text/plain": "          id anfitrion    distrito  plazas  precio\n0       6369     13660   Chamartín       2    70.0\n1      21853     83531      Latina       1    17.0\n2      24805    101471      Centro       3    80.0\n3      24836    101653      Centro       4   115.0\n4      26825    114340  Arganzuela       1    25.0\n..       ...       ...         ...     ...     ...\n995  2686592  13751801      Centro       1    21.0\n996  2701211   1650712   Salamanca       4   165.0\n997  2704499  13841663      Centro       3    85.0\n998  2706194   1843216      Centro       4    69.0\n999  2707743   5542111      Centro       5    67.0\n\n[1000 rows x 5 columns]",
      "text/html": "<div>\n<style scoped>\n    .dataframe tbody tr th:only-of-type {\n        vertical-align: middle;\n    }\n\n    .dataframe tbody tr th {\n        vertical-align: top;\n    }\n\n    .dataframe thead th {\n        text-align: right;\n    }\n</style>\n<table border=\"1\" class=\"dataframe\">\n  <thead>\n    <tr style=\"text-align: right;\">\n      <th></th>\n      <th>id</th>\n      <th>anfitrion</th>\n      <th>distrito</th>\n      <th>plazas</th>\n      <th>precio</th>\n    </tr>\n  </thead>\n  <tbody>\n    <tr>\n      <th>0</th>\n      <td>6369</td>\n      <td>13660</td>\n      <td>Chamartín</td>\n      <td>2</td>\n      <td>70.0</td>\n    </tr>\n    <tr>\n      <th>1</th>\n      <td>21853</td>\n      <td>83531</td>\n      <td>Latina</td>\n      <td>1</td>\n      <td>17.0</td>\n    </tr>\n    <tr>\n      <th>2</th>\n      <td>24805</td>\n      <td>101471</td>\n      <td>Centro</td>\n      <td>3</td>\n      <td>80.0</td>\n    </tr>\n    <tr>\n      <th>3</th>\n      <td>24836</td>\n      <td>101653</td>\n      <td>Centro</td>\n      <td>4</td>\n      <td>115.0</td>\n    </tr>\n    <tr>\n      <th>4</th>\n      <td>26825</td>\n      <td>114340</td>\n      <td>Arganzuela</td>\n      <td>1</td>\n      <td>25.0</td>\n    </tr>\n    <tr>\n      <th>...</th>\n      <td>...</td>\n      <td>...</td>\n      <td>...</td>\n      <td>...</td>\n      <td>...</td>\n    </tr>\n    <tr>\n      <th>995</th>\n      <td>2686592</td>\n      <td>13751801</td>\n      <td>Centro</td>\n      <td>1</td>\n      <td>21.0</td>\n    </tr>\n    <tr>\n      <th>996</th>\n      <td>2701211</td>\n      <td>1650712</td>\n      <td>Salamanca</td>\n      <td>4</td>\n      <td>165.0</td>\n    </tr>\n    <tr>\n      <th>997</th>\n      <td>2704499</td>\n      <td>13841663</td>\n      <td>Centro</td>\n      <td>3</td>\n      <td>85.0</td>\n    </tr>\n    <tr>\n      <th>998</th>\n      <td>2706194</td>\n      <td>1843216</td>\n      <td>Centro</td>\n      <td>4</td>\n      <td>69.0</td>\n    </tr>\n    <tr>\n      <th>999</th>\n      <td>2707743</td>\n      <td>5542111</td>\n      <td>Centro</td>\n      <td>5</td>\n      <td>67.0</td>\n    </tr>\n  </tbody>\n</table>\n<p>1000 rows × 5 columns</p>\n</div>"
     },
     "execution_count": 55,
     "metadata": {},
     "output_type": "execute_result"
    }
   ],
   "source": [
    "df_alojamientos\n"
   ],
   "metadata": {
    "collapsed": false,
    "ExecuteTime": {
     "start_time": "2023-05-13T19:04:23.815273Z",
     "end_time": "2023-05-13T19:04:24.107887Z"
    }
   }
  },
  {
   "cell_type": "code",
   "execution_count": 56,
   "outputs": [
    {
     "name": "stdout",
     "output_type": "stream",
     "text": [
      "          id  anfitrion                                   url   \n",
      "0       6369      13660     https://www.airbnb.com/rooms/6369  \\\n",
      "2      24805     101471    https://www.airbnb.com/rooms/24805   \n",
      "3      24836     101653    https://www.airbnb.com/rooms/24836   \n",
      "4      26825     114340    https://www.airbnb.com/rooms/26825   \n",
      "9      62423     303845    https://www.airbnb.com/rooms/62423   \n",
      "..       ...        ...                                   ...   \n",
      "995  2686592   13751801  https://www.airbnb.com/rooms/2686592   \n",
      "996  2701211    1650712  https://www.airbnb.com/rooms/2701211   \n",
      "997  2704499   13841663  https://www.airbnb.com/rooms/2704499   \n",
      "998  2706194    1843216  https://www.airbnb.com/rooms/2706194   \n",
      "999  2707743    5542111  https://www.airbnb.com/rooms/2707743   \n",
      "\n",
      "    tipo_alojamiento    distrito  precio  gastos_limpieza  plazas   \n",
      "0       Private room   Chamartín    70.0              5.0       2  \\\n",
      "2    Entire home/apt      Centro    80.0             30.0       3   \n",
      "3    Entire home/apt      Centro   115.0              0.0       4   \n",
      "4       Private room  Arganzuela    25.0             15.0       1   \n",
      "9       Private room      Centro    45.0             22.0       3   \n",
      "..               ...         ...     ...              ...     ...   \n",
      "995     Private room      Centro    21.0             10.0       1   \n",
      "996  Entire home/apt   Salamanca   165.0             70.0       4   \n",
      "997  Entire home/apt      Centro    85.0             20.0       3   \n",
      "998  Entire home/apt      Centro    69.0             30.0       4   \n",
      "999  Entire home/apt      Centro    67.0             39.0       5   \n",
      "\n",
      "     noches_minimas  puntuacion  precio_persona  \n",
      "0                 1        98.0       25.000000  \n",
      "2                 5       100.0       53.750000  \n",
      "3                 3        98.0       49.285714  \n",
      "4                 2        94.0       21.666667  \n",
      "9                 1        90.0       16.750000  \n",
      "..              ...         ...             ...  \n",
      "995              20        83.0       20.476190  \n",
      "996               3        84.0       80.714286  \n",
      "997               2       100.0       38.000000  \n",
      "998               4        94.0       38.250000  \n",
      "999               1        86.0       17.666667  \n",
      "\n",
      "[806 rows x 11 columns]\n"
     ]
    }
   ],
   "source": [
    "import pandas as pd\n",
    "\n",
    "\n",
    "alojamientos = pd.read_csv('madridairbnb.csv', sep='\\t')\n",
    "\n",
    "\n",
    "column_names = {\n",
    "    'host_id': 'anfitrion',\n",
    "    'listing_url': 'url',\n",
    "    'room_type': 'tipo_alojamiento',\n",
    "    'neighbourhood_group_cleansed': 'distrito',\n",
    "    'price': 'precio',\n",
    "    'cleaning_fee': 'gastos_limpieza',\n",
    "    'accommodates': 'plazas',\n",
    "    'minimum_nights': 'noches_minimas',\n",
    "    'review_scores_rating': 'puntuacion'\n",
    "}\n",
    "alojamientos.rename(columns=column_names, inplace=True)\n",
    "\n",
    "\n",
    "selected_columns = ['id', 'anfitrion', 'url', 'tipo_alojamiento', 'distrito', 'precio', 'gastos_limpieza', 'plazas', 'noches_minimas', 'puntuacion']\n",
    "alojamientos = alojamientos[selected_columns]\n",
    "\n",
    "\n",
    "alojamientos = alojamientos.dropna()\n",
    "\n",
    "\n",
    "alojamientos['precio'] = alojamientos['precio'].str.replace(',', '').str[1:].astype(float)\n",
    "alojamientos['gastos_limpieza'] = alojamientos['gastos_limpieza'].str[1:].astype(float)\n",
    "\n",
    "alojamientos['precio_persona'] = (alojamientos['precio'] * alojamientos['noches_minimas'] + alojamientos['gastos_limpieza']) / (alojamientos['noches_minimas'] + alojamientos['plazas'])\n",
    "\n",
    "\n",
    "print(alojamientos)\n",
    "\n"
   ],
   "metadata": {
    "collapsed": false,
    "ExecuteTime": {
     "start_time": "2023-05-13T19:04:23.825603Z",
     "end_time": "2023-05-13T19:04:24.123040Z"
    }
   }
  },
  {
   "cell_type": "markdown",
   "source": [
    "7.Crear una función que reciba una lista de distritos y devuelva un diccionario con los tipos de alojamiento en ese distrito y el porcentaje de alojamientos de ese tipo."
   ],
   "metadata": {
    "collapsed": false
   }
  },
  {
   "cell_type": "code",
   "execution_count": 57,
   "outputs": [
    {
     "name": "stdout",
     "output_type": "stream",
     "text": [
      "{'Entire home/apt': 80.03472222222221, 'Private room': 17.881944444444446, 'Hotel room': 1.3888888888888888, 'Shared room': 0.6944444444444444}\n"
     ]
    }
   ],
   "source": [
    "def obtener_porcentaje_tipos_alojamiento(distritos):\n",
    "    alojamientos_distritos = alojamientos[alojamientos['distrito'].isin(distritos)]\n",
    "\n",
    "    conteo_tipos_alojamiento = alojamientos_distritos['tipo_alojamiento'].value_counts()\n",
    "\n",
    "    porcentaje_tipos_alojamiento = (conteo_tipos_alojamiento / alojamientos_distritos.shape[0]) * 100\n",
    "\n",
    "    diccionario_tipos_alojamiento = porcentaje_tipos_alojamiento.to_dict()\n",
    "\n",
    "    return diccionario_tipos_alojamiento\n",
    "\n",
    "distritos = ['Chamartín', 'Arganzuela', 'Centro']\n",
    "resultado = obtener_porcentaje_tipos_alojamiento(distritos)\n",
    "print(resultado)\n"
   ],
   "metadata": {
    "collapsed": false,
    "ExecuteTime": {
     "start_time": "2023-05-13T19:04:23.902810Z",
     "end_time": "2023-05-13T19:04:24.123427Z"
    }
   }
  },
  {
   "cell_type": "markdown",
   "source": [
    "8.Crear una función que reciba una lista de distritos y devuelva un diccionario con el número de alojamientos que cada anfitrión ofrece en esos distrito, ordenado de más a menos alojamientos."
   ],
   "metadata": {
    "collapsed": false
   }
  },
  {
   "cell_type": "code",
   "execution_count": 58,
   "outputs": [
    {
     "data": {
      "text/plain": "{1408525: 14,\n 5542111: 12,\n 901218: 6,\n 596469: 6,\n 153391: 6,\n 4839888: 6,\n 2864064: 5,\n 1732442: 5,\n 2564339: 5,\n 4599639: 5,\n 3726732: 5,\n 1095831: 4,\n 2044655: 4,\n 4068912: 4,\n 4083688: 4,\n 378073: 4,\n 353738: 4,\n 2991925: 4,\n 10651006: 4,\n 10940437: 4,\n 845399: 4,\n 3797913: 4,\n 8705535: 4,\n 12028707: 3,\n 534128: 3,\n 4190343: 3,\n 2184051: 3,\n 4975799: 3,\n 2561320: 3,\n 4361819: 3,\n 1091014: 3,\n 4211443: 3,\n 4292037: 3,\n 8647044: 3,\n 3606346: 3,\n 3048290: 3,\n 4023064: 3,\n 814490: 3,\n 6072314: 3,\n 927343: 3,\n 605612: 3,\n 877571: 3,\n 6566447: 3,\n 5795235: 3,\n 364585: 2,\n 850654: 2,\n 852616: 2,\n 7218465: 2,\n 1470394: 2,\n 2444553: 2,\n 7033920: 2,\n 7823688: 2,\n 1331093: 2,\n 4582755: 2,\n 2541550: 2,\n 2376101: 2,\n 5500409: 2,\n 13569734: 2,\n 4305310: 2,\n 762655: 2,\n 499977: 2,\n 606925: 2,\n 1888816: 2,\n 2847013: 2,\n 8789737: 2,\n 3983613: 2,\n 4231218: 2,\n 1496188: 2,\n 1130651: 2,\n 1522694: 2,\n 4304796: 2,\n 1714750: 2,\n 1650712: 2,\n 3898452: 2,\n 805726: 2,\n 2785251: 2,\n 1713524: 2,\n 2960080: 2,\n 3017315: 2,\n 3447304: 2,\n 13742566: 2,\n 1843216: 2,\n 1791341: 2,\n 8532170: 1,\n 5790036: 1,\n 1973600: 1,\n 6818751: 1,\n 8578326: 1,\n 1766434: 1,\n 8986611: 1,\n 8983711: 1,\n 8933508: 1,\n 8879010: 1,\n 8807899: 1,\n 5870563: 1,\n 8724268: 1,\n 6271519: 1,\n 6412103: 1,\n 6270912: 1,\n 6284734: 1,\n 8631882: 1,\n 8607668: 1,\n 3540591: 1,\n 1666293: 1,\n 7751680: 1,\n 6436336: 1,\n 6816328: 1,\n 7223907: 1,\n 7170175: 1,\n 7153063: 1,\n 7062138: 1,\n 3331390: 1,\n 7049661: 1,\n 6871745: 1,\n 6944433: 1,\n 6928584: 1,\n 6282893: 1,\n 6636854: 1,\n 6598518: 1,\n 2067969: 1,\n 6774354: 1,\n 6730063: 1,\n 8996173: 1,\n 7249376: 1,\n 4790263: 1,\n 6443996: 1,\n 8385568: 1,\n 8192639: 1,\n 8130428: 1,\n 8125749: 1,\n 7850049: 1,\n 6749419: 1,\n 6483080: 1,\n 7306349: 1,\n 5633658: 1,\n 7595958: 1,\n 2741468: 1,\n 7420783: 1,\n 7395294: 1,\n 7375454: 1,\n 13660: 1,\n 8276432: 1,\n 9137401: 1,\n 7739367: 1,\n 12077356: 1,\n 12027564: 1,\n 2933277: 1,\n 7331716: 1,\n 4615520: 1,\n 10037966: 1,\n 8584829: 1,\n 11650026: 1,\n 5002446: 1,\n 9145004: 1,\n 11385250: 1,\n 11479457: 1,\n 11407661: 1,\n 11342272: 1,\n 11262545: 1,\n 2662680: 1,\n 11116174: 1,\n 10974652: 1,\n 12105600: 1,\n 757672: 1,\n 12183135: 1,\n 12481365: 1,\n 13751801: 1,\n 13732037: 1,\n 4294898: 1,\n 13590063: 1,\n 13513088: 1,\n 13492658: 1,\n 13474925: 1,\n 13440901: 1,\n 9757922: 1,\n 845407: 1,\n 4008643: 1,\n 13097473: 1,\n 1890653: 1,\n 12791313: 1,\n 5514970: 1,\n 11824804: 1,\n 12641432: 1,\n 10916450: 1,\n 927713: 1,\n 2425848: 1,\n 6152491: 1,\n 9548677: 1,\n 9699624: 1,\n 9696587: 1,\n 9644407: 1,\n 9643400: 1,\n 9597850: 1,\n 3275902: 1,\n 9551147: 1,\n 9525646: 1,\n 5883486: 1,\n 9290112: 1,\n 9277975: 1,\n 9243583: 1,\n 3488397: 1,\n 9210324: 1,\n 9172209: 1,\n 5537924: 1,\n 9738650: 1,\n 9790541: 1,\n 7649063: 1,\n 5675916: 1,\n 6564220: 1,\n 10654623: 1,\n 8447678: 1,\n 10550853: 1,\n 10516522: 1,\n 10402340: 1,\n 4618994: 1,\n 10215430: 1,\n 9250119: 1,\n 7489861: 1,\n 10189139: 1,\n 1784424: 1,\n 5149901: 1,\n 9278712: 1,\n 9940609: 1,\n 82175: 1,\n 1985408: 1,\n 6191686: 1,\n 1738341: 1,\n 6119221: 1,\n 2517520: 1,\n 447969: 1,\n 2619962: 1,\n 2569497: 1,\n 2613319: 1,\n 1134989: 1,\n 1652272: 1,\n 1150912: 1,\n 2538187: 1,\n 2501740: 1,\n 6075016: 1,\n 2480913: 1,\n 2467212: 1,\n 2433045: 1,\n 2367126: 1,\n 2332600: 1,\n 2307294: 1,\n 2302267: 1,\n 2296476: 1,\n 2659070: 1,\n 1284868: 1,\n 2659765: 1,\n 2713304: 1,\n 655088: 1,\n 1941314: 1,\n 3466426: 1,\n 3432379: 1,\n 1375487: 1,\n 3244793: 1,\n 3290138: 1,\n 3214130: 1,\n 3141727: 1,\n 3121587: 1,\n 2773350: 1,\n 2174652: 1,\n 1567773: 1,\n 2678039: 1,\n 2267893: 1,\n 2857508: 1,\n 2779192: 1,\n 2201302: 1,\n 2134007: 1,\n 2068619: 1,\n 1370007: 1,\n 1367452: 1,\n 1174648: 1,\n 1008659: 1,\n 1004721: 1,\n 967721: 1,\n 816497: 1,\n 723539: 1,\n 632589: 1,\n 574498: 1,\n 534515: 1,\n 487095: 1,\n 259229: 1,\n 368907: 1,\n 391014: 1,\n 303845: 1,\n 114340: 1,\n 101653: 1,\n 1373873: 1,\n 1406073: 1,\n 2056009: 1,\n 1466005: 1,\n 1973909: 1,\n 1981346: 1,\n 1892467: 1,\n 1868359: 1,\n 1738846: 1,\n 1703448: 1,\n 1694537: 1,\n 1722284: 1,\n 1721158: 1,\n 1714866: 1,\n 1713427: 1,\n 1716726: 1,\n 1702905: 1,\n 1598163: 1,\n 1596220: 1,\n 4677030: 1,\n 1478367: 1,\n 3544353: 1,\n 3021792: 1,\n 3648882: 1,\n 5211661: 1,\n 5132742: 1,\n 101471: 1,\n 5114074: 1,\n 5084073: 1,\n 5052379: 1,\n 5031865: 1,\n 4977367: 1,\n 4974280: 1,\n 1574604: 1,\n 4860266: 1,\n 4831338: 1,\n 4826927: 1,\n 4777959: 1,\n 4762305: 1,\n 4665174: 1,\n 4710774: 1,\n 4684397: 1,\n 4722486: 1,\n 5347216: 1,\n 3917443: 1,\n 4839698: 1,\n 993166: 1,\n 3612732: 1,\n 5941001: 1,\n 2228918: 1,\n 5950981: 1,\n 5918751: 1,\n 5896428: 1,\n 5869715: 1,\n 2214378: 1,\n 5824815: 1,\n 571765: 1,\n 5798033: 1,\n 5759904: 1,\n 5719307: 1,\n 5528551: 1,\n 5521269: 1,\n 5343904: 1,\n 4674072: 1,\n 4628173: 1,\n 3691303: 1,\n 4112877: 1,\n 4053105: 1,\n 4036376: 1,\n 4032439: 1,\n 4012290: 1,\n 2670977: 1,\n 690223: 1,\n 3961468: 1,\n 3438657: 1,\n 216570: 1,\n 1625657: 1,\n 1719263: 1,\n 3771869: 1,\n 1566057: 1,\n 2172169: 1,\n 3746437: 1,\n 2555202: 1,\n 1954334: 1,\n 4069734: 1,\n 4068975: 1,\n 4504807: 1,\n 4118311: 1,\n 4312150: 1,\n 2419618: 1,\n 2668849: 1,\n 3631892: 1,\n 2456671: 1,\n 584351: 1,\n 4247556: 1,\n 4424070: 1,\n 2489796: 1,\n 4410687: 1,\n 4354906: 1,\n 1341870: 1,\n 4295642: 1,\n 4286142: 1,\n 4277536: 1,\n 4180632: 1,\n 4161237: 1,\n 13841663: 1}"
     },
     "execution_count": 58,
     "metadata": {},
     "output_type": "execute_result"
    }
   ],
   "source": [
    "def obtener_numero_alojamientos_por_anfitrion(distritos):\n",
    "    alojamientos_distritos = alojamientos[alojamientos['distrito'].isin(distritos)]\n",
    "\n",
    "    if alojamientos_distritos.empty:\n",
    "        print(\"No se encontraron alojamientos en los distritos especificados.\")\n",
    "        return {}\n",
    "\n",
    "    conteo_alojamientos_anfitrion = alojamientos_distritos['anfitrion'].value_counts()\n",
    "\n",
    "    diccionario_numero_alojamientos = conteo_alojamientos_anfitrion.to_dict()\n",
    "\n",
    "    diccionario_numero_alojamientos = dict(sorted(diccionario_numero_alojamientos.items(), key=lambda x: x[1], reverse=True))\n",
    "\n",
    "    return diccionario_numero_alojamientos\n",
    "\n",
    "obtener_numero_alojamientos_por_anfitrion(distritos)\n",
    "\n"
   ],
   "metadata": {
    "collapsed": false,
    "ExecuteTime": {
     "start_time": "2023-05-13T19:04:23.905997Z",
     "end_time": "2023-05-13T19:04:24.124082Z"
    }
   }
  },
  {
   "cell_type": "markdown",
   "source": [
    "9. Crear una función que reciba devuelva un diccionario con el número medio de alojamientos por anfitrión de cada distrito."
   ],
   "metadata": {
    "collapsed": false
   }
  },
  {
   "cell_type": "code",
   "execution_count": 59,
   "outputs": [],
   "source": [
    "def obtener_numero_medio_alojamientos_por_anfitrion():\n",
    "    conteo_alojamientos_anfitrion = alojamientos['anfitrion'].value_counts()\n",
    "    conteo_distritos_anfitrion = alojamientos.groupby('anfitrion')['distrito'].nunique()\n",
    "\n",
    "    numero_medio_alojamientos_por_anfitrion = conteo_alojamientos_anfitrion / conteo_distritos_anfitrion\n",
    "\n",
    "    diccionario_numero_medio_alojamientos = numero_medio_alojamientos_por_anfitrion.to_dict()\n",
    "\n",
    "    return diccionario_numero_medio_alojamientos\n"
   ],
   "metadata": {
    "collapsed": false,
    "ExecuteTime": {
     "start_time": "2023-05-13T19:04:23.919907Z",
     "end_time": "2023-05-13T19:04:24.124196Z"
    }
   }
  },
  {
   "cell_type": "markdown",
   "source": [
    "10.Crear una función que reciba una lista de distritos y dibuje un diagrama de sectores con los porcentajes de tipos de alojamientos en esos distritos."
   ],
   "metadata": {
    "collapsed": false
   }
  },
  {
   "cell_type": "code",
   "execution_count": 60,
   "outputs": [],
   "source": [
    "def dibujar_diagrama_sectores(distritos):\n",
    "    alojamientos_filtrados = alojamientos[alojamientos['distrito'].isin(distritos)]\n",
    "    conteo_tipos_alojamiento = alojamientos_filtrados['tipo_alojamiento'].value_counts()\n",
    "    porcentajes = (conteo_tipos_alojamiento / conteo_tipos_alojamiento.sum()) * 100\n",
    "\n",
    "    plt.figure(figsize=(8, 6))\n",
    "    plt.pie(porcentajes, labels=porcentajes.index, autopct='%1.1f%%', startangle=90)\n",
    "    plt.axis('equal')\n",
    "    plt.title('Porcentaje de Tipos de Alojamiento por Distrito')\n",
    "    plt.legend(loc='best')\n",
    "    plt.show()\n",
    "\n"
   ],
   "metadata": {
    "collapsed": false,
    "ExecuteTime": {
     "start_time": "2023-05-13T19:04:23.922582Z",
     "end_time": "2023-05-13T19:04:24.124288Z"
    }
   }
  }
 ],
 "metadata": {
  "kernelspec": {
   "display_name": "Python 3",
   "language": "python",
   "name": "python3"
  },
  "language_info": {
   "codemirror_mode": {
    "name": "ipython",
    "version": 3
   },
   "file_extension": ".py",
   "mimetype": "text/x-python",
   "name": "python",
   "nbconvert_exporter": "python",
   "pygments_lexer": "ipython3",
   "version": "3.10.11"
  },
  "orig_nbformat": 4
 },
 "nbformat": 4,
 "nbformat_minor": 2
}
